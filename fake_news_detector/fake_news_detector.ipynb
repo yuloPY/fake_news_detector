{
 "cells": [
  {
   "cell_type": "code",
   "execution_count": 1,
   "metadata": {},
   "outputs": [],
   "source": [
    "import numpy as np\n",
    "import pandas as pd\n",
    "import itertools\n",
    "from sklearn.model_selection import train_test_split\n",
    "from sklearn.feature_extraction.text import TfidfVectorizer\n",
    "import re\n",
    "import nltk\n",
    "#nltk.download('stopwords')  you must run this line on first use\n",
    "from nltk.corpus import stopwords\n",
    "import joblib"
   ]
  },
  {
   "cell_type": "code",
   "execution_count": 2,
   "metadata": {},
   "outputs": [],
   "source": [
    "df = pd.read_csv('article_cnn_or_fox.csv')"
   ]
  },
  {
   "cell_type": "code",
   "execution_count": 3,
   "metadata": {},
   "outputs": [],
   "source": [
    "corpus = []\n",
    "\n",
    "\n",
    "df['cleaned_article'] = df['article_text'].apply(lambda x: re.sub('[^a-zA-Z]', ' ', x))\n",
    "\n",
    "\n",
    "for news in df['cleaned_article']:\n",
    "    news = news.lower()  \n",
    "    news = news.split()  \n",
    "    \n",
    "    all_stopwords = stopwords.words('english')  \n",
    "    news = [word for word in news if word not in all_stopwords]  \n",
    "    \n",
    "    news = ' '.join(news)\n",
    "    corpus.append(news)\n"
   ]
  },
  {
   "cell_type": "code",
   "execution_count": 5,
   "metadata": {},
   "outputs": [],
   "source": [
    "classifier = joblib.load(\"model03.pkl\")\n",
    "vectorizer=joblib.load(\"vectorizer_0.7.pkl\")"
   ]
  },
  {
   "cell_type": "code",
   "execution_count": 6,
   "metadata": {},
   "outputs": [],
   "source": [
    "tfidf_news = vectorizer.transform(corpus)"
   ]
  },
  {
   "cell_type": "code",
   "execution_count": null,
   "metadata": {},
   "outputs": [],
   "source": [
    "news_pred = classifier.predict(tfidf_news)\n",
    "print(news_pred)"
   ]
  }
 ],
 "metadata": {
  "kernelspec": {
   "display_name": "Python 3",
   "language": "python",
   "name": "python3"
  },
  "language_info": {
   "codemirror_mode": {
    "name": "ipython",
    "version": 3
   },
   "file_extension": ".py",
   "mimetype": "text/x-python",
   "name": "python",
   "nbconvert_exporter": "python",
   "pygments_lexer": "ipython3",
   "version": "3.12.6"
  }
 },
 "nbformat": 4,
 "nbformat_minor": 2
}
